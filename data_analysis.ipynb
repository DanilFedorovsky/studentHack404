{
 "cells": [
  {
   "cell_type": "code",
   "execution_count": 19,
   "metadata": {},
   "outputs": [],
   "source": [
    "import pandas as pd\n",
    "from matplotlib import pyplot as plt\n",
    "import numpy as np"
   ]
  },
  {
   "cell_type": "markdown",
   "metadata": {},
   "source": [
    "# Data import"
   ]
  },
  {
   "cell_type": "code",
   "execution_count": 39,
   "metadata": {},
   "outputs": [
    {
     "name": "stderr",
     "output_type": "stream",
     "text": [
      "/Users/danilfedorovsky/miniforge3/envs/ML/lib/python3.10/site-packages/openpyxl/styles/stylesheet.py:226: UserWarning: Workbook contains no default style, apply openpyxl's default\n",
      "  warn(\"Workbook contains no default style, apply openpyxl's default\")\n"
     ]
    },
    {
     "name": "stdout",
     "output_type": "stream",
     "text": [
      "(19204, 24)\n"
     ]
    },
    {
     "data": {
      "text/html": [
       "<div>\n",
       "<style scoped>\n",
       "    .dataframe tbody tr th:only-of-type {\n",
       "        vertical-align: middle;\n",
       "    }\n",
       "\n",
       "    .dataframe tbody tr th {\n",
       "        vertical-align: top;\n",
       "    }\n",
       "\n",
       "    .dataframe thead th {\n",
       "        text-align: right;\n",
       "    }\n",
       "</style>\n",
       "<table border=\"1\" class=\"dataframe\">\n",
       "  <thead>\n",
       "    <tr style=\"text-align: right;\">\n",
       "      <th></th>\n",
       "      <th>Time</th>\n",
       "      <th>Motor Vol Flow</th>\n",
       "      <th>Motor Flow In</th>\n",
       "      <th>Motor Flow Out</th>\n",
       "      <th>Motor Surf top</th>\n",
       "      <th>Motor Surf Side</th>\n",
       "      <th>Temp Pt100 RTD winding U</th>\n",
       "      <th>Temp Pt100 RTD winding V</th>\n",
       "      <th>Temp Pt100 RTD winding W</th>\n",
       "      <th>Temp Feed-through plate</th>\n",
       "      <th>...</th>\n",
       "      <th>Temp Ambient</th>\n",
       "      <th>Frequency</th>\n",
       "      <th>Voltage</th>\n",
       "      <th>Current</th>\n",
       "      <th>Power factor</th>\n",
       "      <th>Input power</th>\n",
       "      <th>Output power</th>\n",
       "      <th>Torque</th>\n",
       "      <th>Speed</th>\n",
       "      <th>Slip</th>\n",
       "    </tr>\n",
       "  </thead>\n",
       "  <tbody>\n",
       "    <tr>\n",
       "      <th>1</th>\n",
       "      <td>0</td>\n",
       "      <td>49.6</td>\n",
       "      <td>41.2</td>\n",
       "      <td>39.3</td>\n",
       "      <td>29.2</td>\n",
       "      <td>29.0</td>\n",
       "      <td>30.9</td>\n",
       "      <td>30.8</td>\n",
       "      <td>30.7</td>\n",
       "      <td>19.9</td>\n",
       "      <td>...</td>\n",
       "      <td>20.4</td>\n",
       "      <td>50.0</td>\n",
       "      <td>400.4</td>\n",
       "      <td>100.86</td>\n",
       "      <td>0.35</td>\n",
       "      <td>42.43</td>\n",
       "      <td>26.78</td>\n",
       "      <td>170.98</td>\n",
       "      <td>1495.5</td>\n",
       "      <td>0.3</td>\n",
       "    </tr>\n",
       "    <tr>\n",
       "      <th>2</th>\n",
       "      <td>1</td>\n",
       "      <td>49.7</td>\n",
       "      <td>41.2</td>\n",
       "      <td>39.3</td>\n",
       "      <td>29.1</td>\n",
       "      <td>29.2</td>\n",
       "      <td>30.9</td>\n",
       "      <td>30.8</td>\n",
       "      <td>30.8</td>\n",
       "      <td>19.8</td>\n",
       "      <td>...</td>\n",
       "      <td>20.4</td>\n",
       "      <td>50.0</td>\n",
       "      <td>400.4</td>\n",
       "      <td>100.87</td>\n",
       "      <td>0.35</td>\n",
       "      <td>42.41</td>\n",
       "      <td>26.78</td>\n",
       "      <td>171.02</td>\n",
       "      <td>1495.6</td>\n",
       "      <td>0.28</td>\n",
       "    </tr>\n",
       "    <tr>\n",
       "      <th>3</th>\n",
       "      <td>2</td>\n",
       "      <td>49.9</td>\n",
       "      <td>41.2</td>\n",
       "      <td>39.3</td>\n",
       "      <td>29.0</td>\n",
       "      <td>29.0</td>\n",
       "      <td>30.9</td>\n",
       "      <td>30.8</td>\n",
       "      <td>30.8</td>\n",
       "      <td>19.9</td>\n",
       "      <td>...</td>\n",
       "      <td>20.4</td>\n",
       "      <td>50.0</td>\n",
       "      <td>400.4</td>\n",
       "      <td>100.96</td>\n",
       "      <td>0.35</td>\n",
       "      <td>42.48</td>\n",
       "      <td>26.81</td>\n",
       "      <td>171.21</td>\n",
       "      <td>1495.5</td>\n",
       "      <td>0.29</td>\n",
       "    </tr>\n",
       "    <tr>\n",
       "      <th>4</th>\n",
       "      <td>3</td>\n",
       "      <td>49.8</td>\n",
       "      <td>41.2</td>\n",
       "      <td>39.3</td>\n",
       "      <td>29.2</td>\n",
       "      <td>29.1</td>\n",
       "      <td>31.0</td>\n",
       "      <td>30.9</td>\n",
       "      <td>30.8</td>\n",
       "      <td>19.9</td>\n",
       "      <td>...</td>\n",
       "      <td>20.4</td>\n",
       "      <td>50.0</td>\n",
       "      <td>400.4</td>\n",
       "      <td>100.88</td>\n",
       "      <td>0.35</td>\n",
       "      <td>42.45</td>\n",
       "      <td>26.81</td>\n",
       "      <td>171.17</td>\n",
       "      <td>1495.5</td>\n",
       "      <td>0.3</td>\n",
       "    </tr>\n",
       "    <tr>\n",
       "      <th>5</th>\n",
       "      <td>4</td>\n",
       "      <td>49.7</td>\n",
       "      <td>41.2</td>\n",
       "      <td>39.3</td>\n",
       "      <td>29.3</td>\n",
       "      <td>29.0</td>\n",
       "      <td>31.0</td>\n",
       "      <td>30.9</td>\n",
       "      <td>30.9</td>\n",
       "      <td>20.2</td>\n",
       "      <td>...</td>\n",
       "      <td>20.4</td>\n",
       "      <td>50.0</td>\n",
       "      <td>400.3</td>\n",
       "      <td>107.1</td>\n",
       "      <td>0.449</td>\n",
       "      <td>57.71</td>\n",
       "      <td>35.88</td>\n",
       "      <td>229.55</td>\n",
       "      <td>1492.6</td>\n",
       "      <td>0.52</td>\n",
       "    </tr>\n",
       "  </tbody>\n",
       "</table>\n",
       "<p>5 rows × 24 columns</p>\n",
       "</div>"
      ],
      "text/plain": [
       "   Time Motor Vol Flow Motor Flow In Motor Flow Out Motor Surf top  \\\n",
       "1     0           49.6          41.2           39.3           29.2   \n",
       "2     1           49.7          41.2           39.3           29.1   \n",
       "3     2           49.9          41.2           39.3           29.0   \n",
       "4     3           49.8          41.2           39.3           29.2   \n",
       "5     4           49.7          41.2           39.3           29.3   \n",
       "\n",
       "  Motor Surf Side Temp Pt100 RTD winding U Temp Pt100 RTD winding V  \\\n",
       "1            29.0                     30.9                     30.8   \n",
       "2            29.2                     30.9                     30.8   \n",
       "3            29.0                     30.9                     30.8   \n",
       "4            29.1                     31.0                     30.9   \n",
       "5            29.0                     31.0                     30.9   \n",
       "\n",
       "  Temp Pt100 RTD winding W Temp Feed-through plate  ... Temp Ambient  \\\n",
       "1                     30.7                    19.9  ...         20.4   \n",
       "2                     30.8                    19.8  ...         20.4   \n",
       "3                     30.8                    19.9  ...         20.4   \n",
       "4                     30.8                    19.9  ...         20.4   \n",
       "5                     30.9                    20.2  ...         20.4   \n",
       "\n",
       "  Frequency Voltage Current Power factor Input power Output power  Torque  \\\n",
       "1      50.0   400.4  100.86         0.35       42.43        26.78  170.98   \n",
       "2      50.0   400.4  100.87         0.35       42.41        26.78  171.02   \n",
       "3      50.0   400.4  100.96         0.35       42.48        26.81  171.21   \n",
       "4      50.0   400.4  100.88         0.35       42.45        26.81  171.17   \n",
       "5      50.0   400.3   107.1        0.449       57.71        35.88  229.55   \n",
       "\n",
       "    Speed  Slip  \n",
       "1  1495.5   0.3  \n",
       "2  1495.6  0.28  \n",
       "3  1495.5  0.29  \n",
       "4  1495.5   0.3  \n",
       "5  1492.6  0.52  \n",
       "\n",
       "[5 rows x 24 columns]"
      ]
     },
     "execution_count": 39,
     "metadata": {},
     "output_type": "execute_result"
    }
   ],
   "source": [
    "col_names = [\"Date\",\"Time\",\"Tag Comment\",\"Motor Vol Flow\",\"Motor Flow In\",\"Motor Flow Out\",\"Motor Surf top\",\"Motor Surf Side\",\"Temp Pt100 RTD winding U\", \\\n",
    "            \"Temp Pt100 RTD winding V\", \"Temp Pt100 RTD winding W\", \"Temp PTC thermistor winding\", \"Temp Feed-through plate\", \\\n",
    "            \"Lead intersection\", \"Temp Cable gland\", \"Temp Terminal box seal\", \"Temp Terminal\", \"Temp Ambient\", \"Frequency\", \"Voltage\", \\\n",
    "            \"Current\", \"Power factor\", \"Input power\", \"Output power\", \"Torque\", \"Speed\", \"Slip\"]\n",
    "df = pd.read_excel('./HDE-INT-MOT-20221028-01_HT8_03_N85z-4_OC2_50Hz_70C_R_000759_221107_100743.GEV.xlsx',header=32)\n",
    "df.columns = col_names\n",
    "df = df.drop([0],axis=0)\n",
    "df = df.drop([\"Tag Comment\",\"Date\",\"Temp PTC thermistor winding\"],axis=1)\n",
    "df[\"Time\"] = list(np.arange(19206))\n",
    "df = df[df[\"Frequency\"]!=\"INVALID\"]\n",
    "print(df.shape)\n",
    "df.head(5)"
   ]
  },
  {
   "cell_type": "markdown",
   "metadata": {},
   "source": [
    "# Scatterplot Analysis"
   ]
  },
  {
   "cell_type": "code",
   "execution_count": 42,
   "metadata": {},
   "outputs": [
    {
     "data": {
      "text/plain": [
       "<matplotlib.collections.PathCollection at 0x2b0b7ca60>"
      ]
     },
     "execution_count": 42,
     "metadata": {},
     "output_type": "execute_result"
    },
    {
     "data": {
      "image/png": "[encoded data removed]",
      "text/plain": [
       "<Figure size 432x288 with 1 Axes>"
      ]
     },
     "metadata": {
      "needs_background": "light"
     },
     "output_type": "display_data"
    }
   ],
   "source": [
    "plt.scatter(df[\"Frequency\"],df[\"Current\"])"
   ]
  },
  {
   "cell_type": "code",
   "execution_count": 4,
   "metadata": {},
   "outputs": [
    {
     "data": {
      "text/plain": [
       "<matplotlib.collections.PathCollection at 0x152302ef0>"
      ]
     },
     "execution_count": 4,
     "metadata": {},
     "output_type": "execute_result"
    },
    {
     "data": {
      "image/png": "[encoded data removed]",
      "text/plain": [
       "<Figure size 432x288 with 1 Axes>"
      ]
     },
     "metadata": {
      "needs_background": "light"
     },
     "output_type": "display_data"
    }
   ],
   "source": [
    "plt.scatter(df[\"Motor Surf top\"],df[\"Motor Surf Side\"])"
   ]
  },
  {
   "cell_type": "code",
   "execution_count": 5,
   "metadata": {},
   "outputs": [
    {
     "data": {
      "text/plain": [
       "[]"
      ]
     },
     "execution_count": 5,
     "metadata": {},
     "output_type": "execute_result"
    },
    {
     "data": {
      "image/png": "[encoded data removed]",
      "text/plain": [
       "<Figure size 432x288 with 1 Axes>"
      ]
     },
     "metadata": {
      "needs_background": "light"
     },
     "output_type": "display_data"
    }
   ],
   "source": [
    "plt.scatter(df[\"Temp Pt100 RTD winding U\"],df[\"Temp Ambient\"])\n",
    "plt.plot()\n"
   ]
  }
 ],
 "metadata": {
  "kernelspec": {
   "display_name": "Python 3.10.4 ('ML')",
   "language": "python",
   "name": "python3"
  },
  "language_info": {
   "codemirror_mode": {
    "name": "ipython",
    "version": 3
   },
   "file_extension": ".py",
   "mimetype": "text/x-python",
   "name": "python",
   "nbconvert_exporter": "python",
   "pygments_lexer": "ipython3",
   "version": "3.10.4"
  },
  "orig_nbformat": 4,
  "vscode": {
   "interpreter": {
    "hash": "f158735646e3eab0c4059261eebfec0df7fcce3767322491286d467f4f66baf5"
   }
  }
 },
 "nbformat": 4,
 "nbformat_minor": 2
}
