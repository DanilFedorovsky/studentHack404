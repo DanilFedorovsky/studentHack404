{
 "cells": [
  {
   "cell_type": "code",
   "execution_count": 5,
   "metadata": {},
   "outputs": [],
   "source": [
    "import pandas as pd\n",
    "from matplotlib import pyplot as plt"
   ]
  },
  {
   "cell_type": "markdown",
   "metadata": {},
   "source": [
    "# Data import"
   ]
  },
  {
   "cell_type": "code",
   "execution_count": 6,
   "metadata": {},
   "outputs": [
    {
     "name": "stdout",
     "output_type": "stream",
     "text": [
      "hello\n",
      "hello\n"
     ]
    },
    {
     "name": "stderr",
     "output_type": "stream",
     "text": [
      "c:\\Python310\\lib\\site-packages\\openpyxl\\styles\\stylesheet.py:226: UserWarning: Workbook contains no default style, apply openpyxl's default\n",
      "  warn(\"Workbook contains no default style, apply openpyxl's default\")\n"
     ]
    },
    {
     "name": "stdout",
     "output_type": "stream",
     "text": [
      "hello\n",
      "hello\n"
     ]
    }
   ],
   "source": [
    "col_names = [\"Date\",\"Time\",\"Tag Comment\",\"Motor Vol Flow\",\"Motor Flow In\",\"Motor Flow Out\",\"Motor Surf top\",\"Motor Surf Side\",\"Temp Pt100 RTD winding U\", \\\n",
    "            \"Temp Pt100 RTD winding V\", \"Temp Pt100 RTD winding W\", \"Temp PTC thermistor winding\", \"Temp Feed-through plate\", \\\n",
    "            \"Lead intersection\", \"Temp Cable gland\", \"Temp Terminal box seal\", \"Temp Terminal\", \"Temp Ambient\", \"Frequency\", \"Voltage\", \\\n",
    "            \"Current\", \"Power factor\", \"Input power\", \"Output power\", \"Torque\", \"Speed\", \"Slip\"]\n",
    "df = pd.read_excel('./HDE-INT-MOT-20221028-01_HT8_03_N85z-4_OC2_50Hz_70C_R_000759_221107_100743.GEV.xlsx',header=32)\n",
    "df.columns = col_names\n",
    "df = df.drop([0],axis=0)\n",
    "df.head(5)"
   ]
  },
  {
   "cell_type": "markdown",
   "metadata": {},
   "source": [
    "# Scatterplot Analysis"
   ]
  },
  {
   "cell_type": "code",
   "execution_count": 7,
   "metadata": {},
   "outputs": [
    {
     "data": {
      "text/plain": [
       "<matplotlib.collections.PathCollection at 0x1f4dbfc6170>"
      ]
     },
     "execution_count": 7,
     "metadata": {},
     "output_type": "execute_result"
    },
    {
     "data": {
      "image/png": "[encoded data removed]",
      "text/plain": [
       "<Figure size 432x288 with 1 Axes>"
      ]
     },
     "metadata": {
      "needs_background": "light"
     },
     "output_type": "display_data"
    }
   ],
   "source": [
    "plt.scatter(df[\"Motor Flow In\"],df[\"Motor Flow Out\"])"
   ]
  },
  {
   "cell_type": "code",
   "execution_count": 8,
   "metadata": {},
   "outputs": [
    {
     "data": {
      "text/plain": [
       "<matplotlib.collections.PathCollection at 0x1f4dbf4a140>"
      ]
     },
     "execution_count": 8,
     "metadata": {},
     "output_type": "execute_result"
    },
    {
     "data": {
      "image/png": "[encoded data removed]",
      "text/plain": [
       "<Figure size 432x288 with 1 Axes>"
      ]
     },
     "metadata": {
      "needs_background": "light"
     },
     "output_type": "display_data"
    }
   ],
   "source": [
    "plt.scatter(df[\"Motor Surf top\"],df[\"Motor Surf Side\"])"
   ]
  },
  {
   "cell_type": "code",
   "execution_count": 9,
   "metadata": {},
   "outputs": [
    {
     "data": {
      "text/plain": [
       "[]"
      ]
     },
     "execution_count": 9,
     "metadata": {},
     "output_type": "execute_result"
    },
    {
     "data": {
      "image/png": "[encoded data removed]",
      "text/plain": [
       "<Figure size 432x288 with 1 Axes>"
      ]
     },
     "metadata": {
      "needs_background": "light"
     },
     "output_type": "display_data"
    }
   ],
   "source": [
    "plt.scatter(df[\"Temp Pt100 RTD winding U\"],df[\"Temp Ambient\"])\n",
    "plt.plot()\n"
   ]
  },
  {
   "cell_type": "code",
   "execution_count": 23,
   "metadata": {},
   "outputs": [
    {
     "name": "stdout",
     "output_type": "stream",
     "text": [
      "[397.3, 397.2, 397.1, 397.0, 395.9, 396.9, 397.9, 398.8, 399.6, 399.2, 398.9, 399.9, 400.4, 400.5, 400.6, 400.3, 400.8, 400.9, 400.7, 401.1, 398.3, 398.1, 398.0, 395.7, 395.8, 395.5, 395.4, 395.6, 396.7, 396.8, 396.4, 396.5, 396.2, 397.7, 397.6, 397.8, 397.5, 397.4, 398.5, 398.4, 398.7, 398.6, 398.2, 399.8, 399.4, 399.3, 399.5, 399.0, 400.1, 400.0, 400.2, 399.1, 399.7, 401.0, 401.3, 401.2, 401.4, 401.6, 401.5, 396.6, 396.3, 396.0, 396.1, 395.2]\n",
      "[400.4, 1495.5]\n"
     ]
    },
    {
     "data": {
      "text/plain": [
       "<matplotlib.collections.PathCollection at 0x1f48a3c3e20>"
      ]
     },
     "execution_count": 23,
     "metadata": {},
     "output_type": "execute_result"
    },
    {
     "data": {
      "image/png": "[encoded data removed]",
      "text/plain": [
       "<Figure size 432x288 with 1 Axes>"
      ]
     },
     "metadata": {
      "needs_background": "light"
     },
     "output_type": "display_data"
    }
   ],
   "source": [
    "#plt.plot([e for e in df[\"Voltage\"] if e != \"INVALID\"])\n",
    "data = [[v,s] for v,s in zip(df[\"Voltage\"], df[\"Speed\"]) if v != \"INVALID\" and s != \"INVALID\"]\n",
    "volatage_distinct = list(set([v for v in df[\"Voltage\"] if v != \"INVALID\"]))\n",
    "print(volatage_distinct)\n",
    "print(data[0][:])\n",
    "plt.scatter(data[:][0], data[:][1])"
   ]
  }
 ],
 "metadata": {
  "kernelspec": {
   "display_name": "Python 3.10.2 64-bit",
   "language": "python",
   "name": "python3"
  },
  "language_info": {
   "codemirror_mode": {
    "name": "ipython",
    "version": 3
   },
   "file_extension": ".py",
   "mimetype": "text/x-python",
   "name": "python",
   "nbconvert_exporter": "python",
   "pygments_lexer": "ipython3",
   "version": "3.10.2"
  },
  "orig_nbformat": 4,
  "vscode": {
   "interpreter": {
    "hash": "369f2c481f4da34e4445cda3fffd2e751bd1c4d706f27375911949ba6bb62e1c"
   }
  }
 },
 "nbformat": 4,
 "nbformat_minor": 2
}
