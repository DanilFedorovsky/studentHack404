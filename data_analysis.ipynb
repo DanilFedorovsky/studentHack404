{
 "cells": [
  {
   "cell_type": "code",
   "execution_count": null,
   "metadata": {},
   "outputs": [],
   "source": [
    "%matplotlib notebook\n",
    "import pandas as pd\n",
    "from matplotlib import pyplot as plt"
   ]
  },
  {
   "cell_type": "markdown",
   "metadata": {},
   "source": [
    "# Data import"
   ]
  },
  {
   "cell_type": "code",
   "execution_count": null,
   "metadata": {},
   "outputs": [],
   "source": [
    "print(\"hello\")\n",
    "\n",
    "col_names = [\"Date\",\"Time\",\"Tag Comment\",\"Motor Vol Flow\",\"Motor Flow In\",\"Motor Flow Out\",\"Motor Surf top\",\"Motor Surf Side\",\"Temp Pt100 RTD winding U\", \\\n",
    "            \"Temp Pt100 RTD winding V\", \"Temp Pt100 RTD winding W\", \"Temp PTC thermistor winding\", \"Temp Feed-through plate\", \\\n",
    "            \"Lead intersection\", \"Temp Cable gland\", \"Temp Terminal box seal\", \"Temp Terminal\", \"Temp Ambient\", \"Frequency\", \"Voltage\", \\\n",
    "            \"Current\", \"Power factor\", \"Input power\", \"Output power\", \"Torque\", \"Speed\", \"Slip\"]\n",
    "print(\"hello\")\n",
    "df = pd.read_excel('./HDE-INT-MOT-20221028-01_HT8_03_N85z-4_OC2_50Hz_70C_R_000759_221107_100743.GEV.xlsx',header=32)\n",
    "print(\"hello\")\n",
    "df.columns = col_names\n",
    "df = df.drop([0],axis=0)\n",
    "df.head(5)\n",
    "print(\"hello\")"
   ]
  },
  {
   "cell_type": "markdown",
   "metadata": {},
   "source": [
    "# Scatterplot Analysis"
   ]
  },
  {
   "cell_type": "code",
   "execution_count": null,
   "metadata": {},
   "outputs": [],
   "source": [
    "plt.scatter(df[\"Motor Flow In\"],df[\"Motor Flow Out\"])"
   ]
  },
  {
   "cell_type": "code",
   "execution_count": null,
   "metadata": {},
   "outputs": [],
   "source": [
    "plt.scatter(df[\"Motor Surf top\"],df[\"Motor Surf Side\"])"
   ]
  },
  {
   "cell_type": "code",
   "execution_count": null,
   "metadata": {},
   "outputs": [],
   "source": [
    "plt.scatter(df[\"Temp Pt100 RTD winding U\"],df[\"Temp Ambient\"])\n",
    "plt.plot()\n"
   ]
  },
  {
   "cell_type": "code",
   "execution_count": null,
   "metadata": {},
   "outputs": [],
   "source": [
    "plt.scatter(df[\"Time\"],df[\"Temp Pt100 RTD winding U\"])"
   ]
  }
 ],
 "metadata": {
  "kernelspec": {
   "display_name": "Python 3.10.4 ('ML')",
   "language": "python",
   "name": "python3"
  },
  "language_info": {
   "codemirror_mode": {
    "name": "ipython",
    "version": 3
   },
   "file_extension": ".py",
   "mimetype": "text/x-python",
   "name": "python",
   "nbconvert_exporter": "python",
   "pygments_lexer": "ipython3",
   "version": "3.10.4"
  },
  "orig_nbformat": 4,
  "vscode": {
   "interpreter": {
    "hash": "f158735646e3eab0c4059261eebfec0df7fcce3767322491286d467f4f66baf5"
   }
  }
 },
 "nbformat": 4,
 "nbformat_minor": 2
}
