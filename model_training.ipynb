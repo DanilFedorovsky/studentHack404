{
 "cells": [
  {
   "cell_type": "code",
   "execution_count": 53,
   "metadata": {},
   "outputs": [],
   "source": [
    "import pandas as pd\n",
    "from matplotlib import pyplot as plt\n",
    "import numpy as np\n",
    "import torch\n",
    "import torch\n",
    "from torch import nn\n",
    "import torch.nn.functional as F\n",
    "from torch.optim import Adam\n",
    "from torch.nn import CrossEntropyLoss\n",
    "from torchsummary import summary\n",
    "from tqdm import tqdm\n",
    "import random\n",
    "import model_architecture"
   ]
  },
  {
   "cell_type": "markdown",
   "metadata": {},
   "source": [
    "# Data import"
   ]
  },
  {
   "cell_type": "code",
   "execution_count": 54,
   "metadata": {},
   "outputs": [
    {
     "name": "stdout",
     "output_type": "stream",
     "text": [
      "(19204, 24)\n"
     ]
    },
    {
     "data": {
      "text/html": [
       "<div>\n",
       "<style scoped>\n",
       "    .dataframe tbody tr th:only-of-type {\n",
       "        vertical-align: middle;\n",
       "    }\n",
       "\n",
       "    .dataframe tbody tr th {\n",
       "        vertical-align: top;\n",
       "    }\n",
       "\n",
       "    .dataframe thead th {\n",
       "        text-align: right;\n",
       "    }\n",
       "</style>\n",
       "<table border=\"1\" class=\"dataframe\">\n",
       "  <thead>\n",
       "    <tr style=\"text-align: right;\">\n",
       "      <th></th>\n",
       "      <th>Time</th>\n",
       "      <th>Motor Vol Flow</th>\n",
       "      <th>Motor Flow In</th>\n",
       "      <th>Motor Flow Out</th>\n",
       "      <th>Motor Surf top</th>\n",
       "      <th>Motor Surf Side</th>\n",
       "      <th>Temp Pt100 RTD winding U</th>\n",
       "      <th>Temp Pt100 RTD winding V</th>\n",
       "      <th>Temp Pt100 RTD winding W</th>\n",
       "      <th>Temp Feed-through plate</th>\n",
       "      <th>...</th>\n",
       "      <th>Temp Ambient</th>\n",
       "      <th>Frequency</th>\n",
       "      <th>Voltage</th>\n",
       "      <th>Current</th>\n",
       "      <th>Power factor</th>\n",
       "      <th>Input power</th>\n",
       "      <th>Output power</th>\n",
       "      <th>Torque</th>\n",
       "      <th>Speed</th>\n",
       "      <th>Slip</th>\n",
       "    </tr>\n",
       "  </thead>\n",
       "  <tbody>\n",
       "    <tr>\n",
       "      <th>1</th>\n",
       "      <td>0</td>\n",
       "      <td>49.6</td>\n",
       "      <td>41.2</td>\n",
       "      <td>39.3</td>\n",
       "      <td>29.2</td>\n",
       "      <td>29</td>\n",
       "      <td>30.9</td>\n",
       "      <td>30.8</td>\n",
       "      <td>30.7</td>\n",
       "      <td>19.9</td>\n",
       "      <td>...</td>\n",
       "      <td>20.4</td>\n",
       "      <td>50</td>\n",
       "      <td>400.4</td>\n",
       "      <td>100.86</td>\n",
       "      <td>0.35</td>\n",
       "      <td>42.43</td>\n",
       "      <td>26.78</td>\n",
       "      <td>170.98</td>\n",
       "      <td>1495.5</td>\n",
       "      <td>0.3</td>\n",
       "    </tr>\n",
       "    <tr>\n",
       "      <th>2</th>\n",
       "      <td>1</td>\n",
       "      <td>49.7</td>\n",
       "      <td>41.2</td>\n",
       "      <td>39.3</td>\n",
       "      <td>29.1</td>\n",
       "      <td>29.2</td>\n",
       "      <td>30.9</td>\n",
       "      <td>30.8</td>\n",
       "      <td>30.8</td>\n",
       "      <td>19.8</td>\n",
       "      <td>...</td>\n",
       "      <td>20.4</td>\n",
       "      <td>50</td>\n",
       "      <td>400.4</td>\n",
       "      <td>100.87</td>\n",
       "      <td>0.35</td>\n",
       "      <td>42.41</td>\n",
       "      <td>26.78</td>\n",
       "      <td>171.02</td>\n",
       "      <td>1495.6</td>\n",
       "      <td>0.28</td>\n",
       "    </tr>\n",
       "    <tr>\n",
       "      <th>3</th>\n",
       "      <td>2</td>\n",
       "      <td>49.9</td>\n",
       "      <td>41.2</td>\n",
       "      <td>39.3</td>\n",
       "      <td>29</td>\n",
       "      <td>29</td>\n",
       "      <td>30.9</td>\n",
       "      <td>30.8</td>\n",
       "      <td>30.8</td>\n",
       "      <td>19.9</td>\n",
       "      <td>...</td>\n",
       "      <td>20.4</td>\n",
       "      <td>50</td>\n",
       "      <td>400.4</td>\n",
       "      <td>100.96</td>\n",
       "      <td>0.35</td>\n",
       "      <td>42.48</td>\n",
       "      <td>26.81</td>\n",
       "      <td>171.21</td>\n",
       "      <td>1495.5</td>\n",
       "      <td>0.29</td>\n",
       "    </tr>\n",
       "    <tr>\n",
       "      <th>4</th>\n",
       "      <td>3</td>\n",
       "      <td>49.8</td>\n",
       "      <td>41.2</td>\n",
       "      <td>39.3</td>\n",
       "      <td>29.2</td>\n",
       "      <td>29.1</td>\n",
       "      <td>31</td>\n",
       "      <td>30.9</td>\n",
       "      <td>30.8</td>\n",
       "      <td>19.9</td>\n",
       "      <td>...</td>\n",
       "      <td>20.4</td>\n",
       "      <td>50</td>\n",
       "      <td>400.4</td>\n",
       "      <td>100.88</td>\n",
       "      <td>0.35</td>\n",
       "      <td>42.45</td>\n",
       "      <td>26.81</td>\n",
       "      <td>171.17</td>\n",
       "      <td>1495.5</td>\n",
       "      <td>0.3</td>\n",
       "    </tr>\n",
       "    <tr>\n",
       "      <th>5</th>\n",
       "      <td>4</td>\n",
       "      <td>49.7</td>\n",
       "      <td>41.2</td>\n",
       "      <td>39.3</td>\n",
       "      <td>29.3</td>\n",
       "      <td>29</td>\n",
       "      <td>31</td>\n",
       "      <td>30.9</td>\n",
       "      <td>30.9</td>\n",
       "      <td>20.2</td>\n",
       "      <td>...</td>\n",
       "      <td>20.4</td>\n",
       "      <td>50</td>\n",
       "      <td>400.3</td>\n",
       "      <td>107.1</td>\n",
       "      <td>0.449</td>\n",
       "      <td>57.71</td>\n",
       "      <td>35.88</td>\n",
       "      <td>229.55</td>\n",
       "      <td>1492.6</td>\n",
       "      <td>0.52</td>\n",
       "    </tr>\n",
       "  </tbody>\n",
       "</table>\n",
       "<p>5 rows × 24 columns</p>\n",
       "</div>"
      ],
      "text/plain": [
       "   Time Motor Vol Flow Motor Flow In Motor Flow Out Motor Surf top  \\\n",
       "1     0           49.6          41.2           39.3           29.2   \n",
       "2     1           49.7          41.2           39.3           29.1   \n",
       "3     2           49.9          41.2           39.3             29   \n",
       "4     3           49.8          41.2           39.3           29.2   \n",
       "5     4           49.7          41.2           39.3           29.3   \n",
       "\n",
       "  Motor Surf Side Temp Pt100 RTD winding U Temp Pt100 RTD winding V  \\\n",
       "1              29                     30.9                     30.8   \n",
       "2            29.2                     30.9                     30.8   \n",
       "3              29                     30.9                     30.8   \n",
       "4            29.1                       31                     30.9   \n",
       "5              29                       31                     30.9   \n",
       "\n",
       "  Temp Pt100 RTD winding W Temp Feed-through plate  ... Temp Ambient  \\\n",
       "1                     30.7                    19.9  ...         20.4   \n",
       "2                     30.8                    19.8  ...         20.4   \n",
       "3                     30.8                    19.9  ...         20.4   \n",
       "4                     30.8                    19.9  ...         20.4   \n",
       "5                     30.9                    20.2  ...         20.4   \n",
       "\n",
       "  Frequency Voltage Current Power factor Input power Output power  Torque  \\\n",
       "1        50   400.4  100.86         0.35       42.43        26.78  170.98   \n",
       "2        50   400.4  100.87         0.35       42.41        26.78  171.02   \n",
       "3        50   400.4  100.96         0.35       42.48        26.81  171.21   \n",
       "4        50   400.4  100.88         0.35       42.45        26.81  171.17   \n",
       "5        50   400.3   107.1        0.449       57.71        35.88  229.55   \n",
       "\n",
       "    Speed  Slip  \n",
       "1  1495.5   0.3  \n",
       "2  1495.6  0.28  \n",
       "3  1495.5  0.29  \n",
       "4  1495.5   0.3  \n",
       "5  1492.6  0.52  \n",
       "\n",
       "[5 rows x 24 columns]"
      ]
     },
     "execution_count": 54,
     "metadata": {},
     "output_type": "execute_result"
    }
   ],
   "source": [
    "col_names = [\"Date\",\"Time\",\"Tag Comment\",\"Motor Vol Flow\",\"Motor Flow In\",\"Motor Flow Out\",\"Motor Surf top\",\"Motor Surf Side\",\"Temp Pt100 RTD winding U\", \\\n",
    "            \"Temp Pt100 RTD winding V\", \"Temp Pt100 RTD winding W\", \"Temp PTC thermistor winding\", \"Temp Feed-through plate\", \\\n",
    "            \"Lead intersection\", \"Temp Cable gland\", \"Temp Terminal box seal\", \"Temp Terminal\", \"Temp Ambient\", \"Frequency\", \"Voltage\", \\\n",
    "            \"Current\", \"Power factor\", \"Input power\", \"Output power\", \"Torque\", \"Speed\", \"Slip\"]\n",
    "df = pd.read_excel('./HDE-INT-MOT-20221028-01_HT8_03_N85z-4_OC2_50Hz_70C_R_000759_221107_100743.GEV.xlsx',header=32)\n",
    "df.columns = col_names\n",
    "df = df.drop([0],axis=0)\n",
    "df = df.drop([\"Tag Comment\",\"Date\",\"Temp PTC thermistor winding\"],axis=1)\n",
    "df[\"Time\"] = list(np.arange(19206))\n",
    "df = df[df[\"Frequency\"]!=\"INVALID\"]\n",
    "print(df.shape)\n",
    "df.head(5)"
   ]
  },
  {
   "cell_type": "markdown",
   "metadata": {},
   "source": [
    "# Data Augmentation"
   ]
  },
  {
   "cell_type": "code",
   "execution_count": 63,
   "metadata": {},
   "outputs": [
    {
     "data": {
      "text/plain": [
       "torch.Size([19204, 24])"
      ]
     },
     "execution_count": 63,
     "metadata": {},
     "output_type": "execute_result"
    }
   ],
   "source": [
    "df_p = df\n",
    "X = df_p.to_numpy(dtype=np.float16)\n",
    "X = torch.Tensor(X)\n",
    "Y = torch.stack([torch.ones(19204),torch.zeros(19204),torch.zeros(19204)]).view(19204,3)\n",
    "X_p = X\n",
    "X.shape"
   ]
  },
  {
   "cell_type": "code",
   "execution_count": 64,
   "metadata": {},
   "outputs": [
    {
     "name": "stdout",
     "output_type": "stream",
     "text": [
      "85.1\n",
      "268.69\n"
     ]
    }
   ],
   "source": [
    "# Temp Terminal (an Anschlussklemme steigt über 90 oder IN Power über 280 => gelb\n",
    "# Inp Power über 300 UND Temp Terminal über 100 => rot\n",
    "print(max(df[\"Temp Terminal\"]))# Temperatur and Anschlussklemme\n",
    "print(max(df[\"Input power\"]))\n",
    "# 13 & 19"
   ]
  },
  {
   "cell_type": "code",
   "execution_count": 130,
   "metadata": {},
   "outputs": [],
   "source": [
    "def augment_data(X):\n",
    "    count_1 = 0\n",
    "    count_2 = 0\n",
    "    count_3 = 0\n",
    "    new_xs = []\n",
    "    new_ys = []\n",
    "    for x in X:\n",
    "        xs = []\n",
    "        for i in range(0,len(x)):\n",
    "            n = x[i]\n",
    "            if i == 13:\n",
    "                n = n + random.uniform(0,1)\n",
    "            elif i == 19:\n",
    "                n = n + random.uniform(0,1)\n",
    "            else:\n",
    "                n = n + random.uniform(0,10)\n",
    "            xs.append(n)\n",
    "        # get Y values\n",
    "        if xs[13] > 82.0 or xs[19] > 271:\n",
    "            new_ys.append([0,0,1])\n",
    "            count_1+=1\n",
    "        elif xs[13] > 76.0 or xs[19] > 260.0:\n",
    "            new_ys.append([0,1,0])\n",
    "            count_2+=1\n",
    "        else:\n",
    "            new_ys.append([1,0,0])\n",
    "            count_3+=1\n",
    "        new_xs.append(xs)\n",
    "    new_xs = torch.Tensor(np.array(new_xs))\n",
    "    new_ys = torch.Tensor(np.array(new_ys))\n",
    "    print(count_1,count_2,count_3)\n",
    "    return new_xs, new_ys"
   ]
  },
  {
   "cell_type": "code",
   "execution_count": 131,
   "metadata": {},
   "outputs": [
    {
     "name": "stdout",
     "output_type": "stream",
     "text": [
      "6722 5425 7057\n",
      "torch.Size([844976, 24])\n",
      "6725 5399 7080\n",
      "torch.Size([864180, 24])\n",
      "torch.Size([864180, 24])\n",
      "torch.Size([864180, 3])\n"
     ]
    }
   ],
   "source": [
    "for i in range(0,2):\n",
    "    xs, ys = augment_data(X_p)\n",
    "    X = torch.cat((X,xs),0)\n",
    "    Y = torch.cat((Y,ys),0)\n",
    "    print(X.shape)\n",
    "print(X.shape)\n",
    "print(Y.shape)"
   ]
  },
  {
   "cell_type": "markdown",
   "metadata": {},
   "source": [
    "# Ensemble of Neural Network + CNN + LSTM Training"
   ]
  },
  {
   "cell_type": "markdown",
   "metadata": {},
   "source": [
    "Idee: Ensemble Learner, der das Beste von DNN, CNN, LSTM und Transformer Modellen verbindet"
   ]
  },
  {
   "cell_type": "code",
   "execution_count": 133,
   "metadata": {},
   "outputs": [
    {
     "name": "stdout",
     "output_type": "stream",
     "text": [
      "Epoch: 1/1\n"
     ]
    },
    {
     "name": "stderr",
     "output_type": "stream",
     "text": [
      "100%|██████████| 10000/10000 [00:18<00:00, 532.84it/s]"
     ]
    },
    {
     "name": "stdout",
     "output_type": "stream",
     "text": [
      "Training Loss in Epoch 1 : 0.024424462618147257\n",
      "0\n"
     ]
    },
    {
     "name": "stderr",
     "output_type": "stream",
     "text": [
      "\n"
     ]
    }
   ],
   "source": [
    "EPOCHS = 1\n",
    "INIT_LR = 0.0001\n",
    "device =  torch.device('cuda:0') if torch.cuda.is_available() else torch.device('cpu')\n",
    "\n",
    "model = model_architecture.Ensemble().to(device)\n",
    "model= torch.nn.DataParallel(model,device_ids=[0])\n",
    "\n",
    "lossCE = CrossEntropyLoss()\n",
    "\n",
    "opt = Adam(model.parameters(), lr=INIT_LR)\n",
    "\n",
    "H = {\"train_loss\":[]}\n",
    "\n",
    "for epoch in range(0, EPOCHS):\n",
    "    print(\"Epoch:\",str(epoch+1)+\"/\"+str(EPOCHS))\n",
    "    # Train Mode\n",
    "    model.train()\n",
    "    \n",
    "    # Initialize\n",
    "    totalTrainLoss = 0\n",
    "    totalValLoss = 0\n",
    "    trainCorrect = 0\n",
    "    valCorrect = 0\n",
    "\n",
    "    for i in tqdm(range(0,10000)): # Iterate over Training Examples\n",
    "        x = X[i].unsqueeze(0)\n",
    "        y = Y[i].unsqueeze(0)\n",
    "        x_pred=model(x)\n",
    "        loss = lossCE(x_pred,y)\n",
    "        # zero out the gradients, perform the backpropagation step, and update the weights\n",
    "        opt.zero_grad()\n",
    "        loss.backward()\n",
    "        opt.step()\n",
    "        H[\"train_loss\"].append(float(loss))\n",
    "    print(\"Training Loss in Epoch\",str(epoch+1),\":\",np.sum(np.array(H[\"train_loss\"])/(len(X)*(epoch+1))))\n",
    "       \n",
    "PATH = \"./modelfinal\"\n",
    "torch.save(model.state_dict(), PATH + \".pt\")\n",
    "print(totalTrainLoss)"
   ]
  }
 ],
 "metadata": {
  "kernelspec": {
   "display_name": "Python 3.10.4 ('ML')",
   "language": "python",
   "name": "python3"
  },
  "language_info": {
   "codemirror_mode": {
    "name": "ipython",
    "version": 3
   },
   "file_extension": ".py",
   "mimetype": "text/x-python",
   "name": "python",
   "nbconvert_exporter": "python",
   "pygments_lexer": "ipython3",
   "version": "3.10.4"
  },
  "orig_nbformat": 4,
  "vscode": {
   "interpreter": {
    "hash": "f158735646e3eab0c4059261eebfec0df7fcce3767322491286d467f4f66baf5"
   }
  }
 },
 "nbformat": 4,
 "nbformat_minor": 2
}
