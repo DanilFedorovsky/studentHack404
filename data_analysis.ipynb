{
 "cells": [
  {
   "cell_type": "code",
   "execution_count": 54,
   "metadata": {},
   "outputs": [],
   "source": [
    "import pandas as pd\n",
    "from matplotlib import pyplot as plt\n",
    "import numpy as np"
   ]
  },
  {
   "cell_type": "markdown",
   "metadata": {},
   "source": [
    "# Data import"
   ]
  },
  {
   "cell_type": "code",
   "execution_count": 39,
   "metadata": {},
   "outputs": [
    {
     "name": "stderr",
     "output_type": "stream",
     "text": [
      "/Users/danilfedorovsky/miniforge3/envs/ML/lib/python3.10/site-packages/openpyxl/styles/stylesheet.py:226: UserWarning: Workbook contains no default style, apply openpyxl's default\n",
      "  warn(\"Workbook contains no default style, apply openpyxl's default\")\n"
     ]
    },
    {
     "name": "stdout",
     "output_type": "stream",
     "text": [
      "(19204, 24)\n"
     ]
    },
    {
     "data": {
      "text/html": [
       "<div>\n",
       "<style scoped>\n",
       "    .dataframe tbody tr th:only-of-type {\n",
       "        vertical-align: middle;\n",
       "    }\n",
       "\n",
       "    .dataframe tbody tr th {\n",
       "        vertical-align: top;\n",
       "    }\n",
       "\n",
       "    .dataframe thead th {\n",
       "        text-align: right;\n",
       "    }\n",
       "</style>\n",
       "<table border=\"1\" class=\"dataframe\">\n",
       "  <thead>\n",
       "    <tr style=\"text-align: right;\">\n",
       "      <th></th>\n",
       "      <th>Time</th>\n",
       "      <th>Motor Vol Flow</th>\n",
       "      <th>Motor Flow In</th>\n",
       "      <th>Motor Flow Out</th>\n",
       "      <th>Motor Surf top</th>\n",
       "      <th>Motor Surf Side</th>\n",
       "      <th>Temp Pt100 RTD winding U</th>\n",
       "      <th>Temp Pt100 RTD winding V</th>\n",
       "      <th>Temp Pt100 RTD winding W</th>\n",
       "      <th>Temp Feed-through plate</th>\n",
       "      <th>...</th>\n",
       "      <th>Temp Ambient</th>\n",
       "      <th>Frequency</th>\n",
       "      <th>Voltage</th>\n",
       "      <th>Current</th>\n",
       "      <th>Power factor</th>\n",
       "      <th>Input power</th>\n",
       "      <th>Output power</th>\n",
       "      <th>Torque</th>\n",
       "      <th>Speed</th>\n",
       "      <th>Slip</th>\n",
       "    </tr>\n",
       "  </thead>\n",
       "  <tbody>\n",
       "    <tr>\n",
       "      <th>1</th>\n",
       "      <td>0</td>\n",
       "      <td>49.6</td>\n",
       "      <td>41.2</td>\n",
       "      <td>39.3</td>\n",
       "      <td>29.2</td>\n",
       "      <td>29.0</td>\n",
       "      <td>30.9</td>\n",
       "      <td>30.8</td>\n",
       "      <td>30.7</td>\n",
       "      <td>19.9</td>\n",
       "      <td>...</td>\n",
       "      <td>20.4</td>\n",
       "      <td>50.0</td>\n",
       "      <td>400.4</td>\n",
       "      <td>100.86</td>\n",
       "      <td>0.35</td>\n",
       "      <td>42.43</td>\n",
       "      <td>26.78</td>\n",
       "      <td>170.98</td>\n",
       "      <td>1495.5</td>\n",
       "      <td>0.3</td>\n",
       "    </tr>\n",
       "    <tr>\n",
       "      <th>2</th>\n",
       "      <td>1</td>\n",
       "      <td>49.7</td>\n",
       "      <td>41.2</td>\n",
       "      <td>39.3</td>\n",
       "      <td>29.1</td>\n",
       "      <td>29.2</td>\n",
       "      <td>30.9</td>\n",
       "      <td>30.8</td>\n",
       "      <td>30.8</td>\n",
       "      <td>19.8</td>\n",
       "      <td>...</td>\n",
       "      <td>20.4</td>\n",
       "      <td>50.0</td>\n",
       "      <td>400.4</td>\n",
       "      <td>100.87</td>\n",
       "      <td>0.35</td>\n",
       "      <td>42.41</td>\n",
       "      <td>26.78</td>\n",
       "      <td>171.02</td>\n",
       "      <td>1495.6</td>\n",
       "      <td>0.28</td>\n",
       "    </tr>\n",
       "    <tr>\n",
       "      <th>3</th>\n",
       "      <td>2</td>\n",
       "      <td>49.9</td>\n",
       "      <td>41.2</td>\n",
       "      <td>39.3</td>\n",
       "      <td>29.0</td>\n",
       "      <td>29.0</td>\n",
       "      <td>30.9</td>\n",
       "      <td>30.8</td>\n",
       "      <td>30.8</td>\n",
       "      <td>19.9</td>\n",
       "      <td>...</td>\n",
       "      <td>20.4</td>\n",
       "      <td>50.0</td>\n",
       "      <td>400.4</td>\n",
       "      <td>100.96</td>\n",
       "      <td>0.35</td>\n",
       "      <td>42.48</td>\n",
       "      <td>26.81</td>\n",
       "      <td>171.21</td>\n",
       "      <td>1495.5</td>\n",
       "      <td>0.29</td>\n",
       "    </tr>\n",
       "    <tr>\n",
       "      <th>4</th>\n",
       "      <td>3</td>\n",
       "      <td>49.8</td>\n",
       "      <td>41.2</td>\n",
       "      <td>39.3</td>\n",
       "      <td>29.2</td>\n",
       "      <td>29.1</td>\n",
       "      <td>31.0</td>\n",
       "      <td>30.9</td>\n",
       "      <td>30.8</td>\n",
       "      <td>19.9</td>\n",
       "      <td>...</td>\n",
       "      <td>20.4</td>\n",
       "      <td>50.0</td>\n",
       "      <td>400.4</td>\n",
       "      <td>100.88</td>\n",
       "      <td>0.35</td>\n",
       "      <td>42.45</td>\n",
       "      <td>26.81</td>\n",
       "      <td>171.17</td>\n",
       "      <td>1495.5</td>\n",
       "      <td>0.3</td>\n",
       "    </tr>\n",
       "    <tr>\n",
       "      <th>5</th>\n",
       "      <td>4</td>\n",
       "      <td>49.7</td>\n",
       "      <td>41.2</td>\n",
       "      <td>39.3</td>\n",
       "      <td>29.3</td>\n",
       "      <td>29.0</td>\n",
       "      <td>31.0</td>\n",
       "      <td>30.9</td>\n",
       "      <td>30.9</td>\n",
       "      <td>20.2</td>\n",
       "      <td>...</td>\n",
       "      <td>20.4</td>\n",
       "      <td>50.0</td>\n",
       "      <td>400.3</td>\n",
       "      <td>107.1</td>\n",
       "      <td>0.449</td>\n",
       "      <td>57.71</td>\n",
       "      <td>35.88</td>\n",
       "      <td>229.55</td>\n",
       "      <td>1492.6</td>\n",
       "      <td>0.52</td>\n",
       "    </tr>\n",
       "  </tbody>\n",
       "</table>\n",
       "<p>5 rows × 24 columns</p>\n",
       "</div>"
      ],
      "text/plain": [
       "   Time Motor Vol Flow Motor Flow In Motor Flow Out Motor Surf top  \\\n",
       "1     0           49.6          41.2           39.3           29.2   \n",
       "2     1           49.7          41.2           39.3           29.1   \n",
       "3     2           49.9          41.2           39.3           29.0   \n",
       "4     3           49.8          41.2           39.3           29.2   \n",
       "5     4           49.7          41.2           39.3           29.3   \n",
       "\n",
       "  Motor Surf Side Temp Pt100 RTD winding U Temp Pt100 RTD winding V  \\\n",
       "1            29.0                     30.9                     30.8   \n",
       "2            29.2                     30.9                     30.8   \n",
       "3            29.0                     30.9                     30.8   \n",
       "4            29.1                     31.0                     30.9   \n",
       "5            29.0                     31.0                     30.9   \n",
       "\n",
       "  Temp Pt100 RTD winding W Temp Feed-through plate  ... Temp Ambient  \\\n",
       "1                     30.7                    19.9  ...         20.4   \n",
       "2                     30.8                    19.8  ...         20.4   \n",
       "3                     30.8                    19.9  ...         20.4   \n",
       "4                     30.8                    19.9  ...         20.4   \n",
       "5                     30.9                    20.2  ...         20.4   \n",
       "\n",
       "  Frequency Voltage Current Power factor Input power Output power  Torque  \\\n",
       "1      50.0   400.4  100.86         0.35       42.43        26.78  170.98   \n",
       "2      50.0   400.4  100.87         0.35       42.41        26.78  171.02   \n",
       "3      50.0   400.4  100.96         0.35       42.48        26.81  171.21   \n",
       "4      50.0   400.4  100.88         0.35       42.45        26.81  171.17   \n",
       "5      50.0   400.3   107.1        0.449       57.71        35.88  229.55   \n",
       "\n",
       "    Speed  Slip  \n",
       "1  1495.5   0.3  \n",
       "2  1495.6  0.28  \n",
       "3  1495.5  0.29  \n",
       "4  1495.5   0.3  \n",
       "5  1492.6  0.52  \n",
       "\n",
       "[5 rows x 24 columns]"
      ]
     },
     "execution_count": 39,
     "metadata": {},
     "output_type": "execute_result"
    }
   ],
   "source": [
    "col_names = [\"Date\",\"Time\",\"Tag Comment\",\"Motor Vol Flow\",\"Motor Flow In\",\"Motor Flow Out\",\"Motor Surf top\",\"Motor Surf Side\",\"Temp Pt100 RTD winding U\", \\\n",
    "            \"Temp Pt100 RTD winding V\", \"Temp Pt100 RTD winding W\", \"Temp PTC thermistor winding\", \"Temp Feed-through plate\", \\\n",
    "            \"Lead intersection\", \"Temp Cable gland\", \"Temp Terminal box seal\", \"Temp Terminal\", \"Temp Ambient\", \"Frequency\", \"Voltage\", \\\n",
    "            \"Current\", \"Power factor\", \"Input power\", \"Output power\", \"Torque\", \"Speed\", \"Slip\"]\n",
    "df = pd.read_excel('./HDE-INT-MOT-20221028-01_HT8_03_N85z-4_OC2_50Hz_70C_R_000759_221107_100743.GEV.xlsx',header=32)\n",
    "df.columns = col_names\n",
    "df = df.drop([0],axis=0)\n",
    "df = df.drop([\"Tag Comment\",\"Date\",\"Temp PTC thermistor winding\"],axis=1)\n",
    "df[\"Time\"] = list(np.arange(19206))\n",
    "df = df[df[\"Frequency\"]!=\"INVALID\"]\n",
    "print(df.shape)\n",
    "df.head(5)"
   ]
  },
  {
   "cell_type": "markdown",
   "metadata": {},
   "source": [
    "# Scatterplot Analysis"
   ]
  },
  {
   "cell_type": "code",
   "execution_count": 42,
   "metadata": {},
   "outputs": [
    {
     "data": {
      "text/plain": [
       "<matplotlib.collections.PathCollection at 0x2b0b7ca60>"
      ]
     },
     "execution_count": 42,
     "metadata": {},
     "output_type": "execute_result"
    },
    {
     "data": {
      "image/png": "[encoded data removed]",
      "text/plain": [
       "<Figure size 432x288 with 1 Axes>"
      ]
     },
     "metadata": {
      "needs_background": "light"
     },
     "output_type": "display_data"
    }
   ],
   "source": [
    "plt.scatter(df[\"Frequency\"],df[\"Current\"])"
   ]
  },
  {
   "cell_type": "code",
   "execution_count": 4,
   "metadata": {},
   "outputs": [
    {
     "data": {
      "text/plain": [
       "<matplotlib.collections.PathCollection at 0x152302ef0>"
      ]
     },
     "execution_count": 4,
     "metadata": {},
     "output_type": "execute_result"
    },
    {
     "data": {
      "image/png": "[encoded data removed]",
      "text/plain": [
       "<Figure size 432x288 with 1 Axes>"
      ]
     },
     "metadata": {
      "needs_background": "light"
     },
     "output_type": "display_data"
    }
   ],
   "source": [
    "plt.scatter(df[\"Motor Surf top\"],df[\"Motor Surf Side\"])"
   ]
  },
  {
   "cell_type": "code",
   "execution_count": 91,
   "metadata": {},
   "outputs": [
    {
     "data": {
      "text/plain": [
       "<matplotlib.collections.PathCollection at 0x2c15e9c00>"
      ]
     },
     "execution_count": 91,
     "metadata": {},
     "output_type": "execute_result"
    },
    {
     "data": {
      "image/png": "[encoded data removed]",
      "text/plain": [
       "<Figure size 432x288 with 1 Axes>"
      ]
     },
     "metadata": {
      "needs_background": "light"
     },
     "output_type": "display_data"
    }
   ],
   "source": [
    "plt.scatter(df[\"Temp Pt100 RTD winding U\"],df[\"Output power\"])"
   ]
  },
  {
   "cell_type": "code",
   "execution_count": 49,
   "metadata": {},
   "outputs": [
    {
     "data": {
      "text/plain": [
       "[<matplotlib.lines.Line2D at 0x2b4701030>]"
      ]
     },
     "execution_count": 49,
     "metadata": {},
     "output_type": "execute_result"
    },
    {
     "data": {
      "image/png": "[encoded data removed]",
      "text/plain": [
       "<Figure size 432x288 with 1 Axes>"
      ]
     },
     "metadata": {
      "needs_background": "light"
     },
     "output_type": "display_data"
    }
   ],
   "source": [
    "plt.plot(df[\"Speed\"])"
   ]
  },
  {
   "cell_type": "markdown",
   "metadata": {},
   "source": [
    "# Time for Data \"Augmentation\";)"
   ]
  },
  {
   "cell_type": "code",
   "execution_count": 97,
   "metadata": {},
   "outputs": [
    {
     "name": "stdout",
     "output_type": "stream",
     "text": [
      "222.7\n",
      "222.7\n",
      "222.7\n",
      "222.7\n",
      "85.1\n"
     ]
    }
   ],
   "source": [
    "print(max(df[\"Temp Pt100 RTD winding U\"]))\n",
    "print(max(df[\"Temp Pt100 RTD winding U\"]))\n",
    "print(max(df[\"Temp Pt100 RTD winding U\"]))\n",
    "print(max(df[\"Temp Pt100 RTD winding U\"]))\n",
    "print(max(df[\"Temp Terminal\"]))# Temperatur and Anschlussklemme"
   ]
  },
  {
   "cell_type": "markdown",
   "metadata": {},
   "source": [
    "# Case 1: Overheating"
   ]
  },
  {
   "cell_type": "code",
   "execution_count": 133,
   "metadata": {},
   "outputs": [
    {
     "name": "stdout",
     "output_type": "stream",
     "text": [
      "85.1\n"
     ]
    }
   ],
   "source": [
    "# Temp Terminal (an Anschlussklemme steigt über 90 => Gelb, über 100 => rot)\n",
    "print(max(df[\"Temp Terminal\"]))# Temperatur and Anschlussklemme"
   ]
  },
  {
   "cell_type": "markdown",
   "metadata": {},
   "source": [
    "# Case 2: Increased Power Intake"
   ]
  },
  {
   "cell_type": "code",
   "execution_count": null,
   "metadata": {},
   "outputs": [],
   "source": []
  },
  {
   "cell_type": "markdown",
   "metadata": {},
   "source": [
    "# OMG it's Deep Learning"
   ]
  },
  {
   "cell_type": "code",
   "execution_count": 123,
   "metadata": {},
   "outputs": [],
   "source": [
    "import torch\n",
    "from torch import nn\n",
    "import torch.nn.functional as F\n",
    "from torch.optim import Adam\n",
    "from torch.nn import CrossEntropyLoss\n",
    "from torchsummary import summary\n",
    "from tqdm import tqdm"
   ]
  },
  {
   "cell_type": "code",
   "execution_count": 124,
   "metadata": {},
   "outputs": [
    {
     "name": "stdout",
     "output_type": "stream",
     "text": [
      "(19204, 24)\n",
      "torch.Size([24])\n"
     ]
    }
   ],
   "source": [
    "print(df.shape)\n",
    "X = df.to_numpy(dtype=np.float16)\n",
    "X = torch.Tensor(X)\n",
    "print(X[1].shape)\n",
    "Y = torch.stack([torch.zeros(19204),torch.zeros(19204),torch.ones(19204)]).view(19204,3)"
   ]
  },
  {
   "cell_type": "code",
   "execution_count": 130,
   "metadata": {},
   "outputs": [
    {
     "name": "stdout",
     "output_type": "stream",
     "text": [
      "==========================================================================================\n",
      "Layer (type:depth-idx)                   Output Shape              Param #\n",
      "==========================================================================================\n",
      "├─Linear: 1-1                            [-1, 1, 1024]             25,600\n",
      "├─Linear: 1-2                            [-1, 1, 256]              262,400\n",
      "├─Linear: 1-3                            [-1, 1, 64]               16,448\n",
      "├─Linear: 1-4                            [-1, 1, 3]                195\n",
      "├─Softmax: 1-5                           [-1, 1, 3]                --\n",
      "==========================================================================================\n",
      "Total params: 304,643\n",
      "Trainable params: 304,643\n",
      "Non-trainable params: 0\n",
      "Total mult-adds (M): 0.30\n",
      "==========================================================================================\n",
      "Input size (MB): 0.00\n",
      "Forward/backward pass size (MB): 0.01\n",
      "Params size (MB): 1.16\n",
      "Estimated Total Size (MB): 1.17\n",
      "==========================================================================================\n",
      "==========================================================================================\n",
      "Layer (type:depth-idx)                   Output Shape              Param #\n",
      "==========================================================================================\n",
      "├─Linear: 1-1                            [-1, 1, 1024]             25,600\n",
      "├─Linear: 1-2                            [-1, 1, 256]              262,400\n",
      "├─Linear: 1-3                            [-1, 1, 64]               16,448\n",
      "├─Linear: 1-4                            [-1, 1, 3]                195\n",
      "├─Softmax: 1-5                           [-1, 1, 3]                --\n",
      "==========================================================================================\n",
      "Total params: 304,643\n",
      "Trainable params: 304,643\n",
      "Non-trainable params: 0\n",
      "Total mult-adds (M): 0.30\n",
      "==========================================================================================\n",
      "Input size (MB): 0.00\n",
      "Forward/backward pass size (MB): 0.01\n",
      "Params size (MB): 1.16\n",
      "Estimated Total Size (MB): 1.17\n",
      "==========================================================================================\n"
     ]
    }
   ],
   "source": [
    "class DeepNeuralNetwork(nn.Module):\n",
    "    \"\"\"\n",
    "    Binary Classifier detecting problems\n",
    "    \"\"\"\n",
    "\n",
    "    def __init__(self):\n",
    "        \"\"\"\n",
    "        Model Constructor, Initialize all the layers to be used\n",
    "        \"\"\"\n",
    "        super(DeepNeuralNetwork, self).__init__()\n",
    "        self.fc1 = nn.Linear(24, 1024)\n",
    "        self.fc2 = nn.Linear(1024, 256)\n",
    "        self.fc3 = nn.Linear(256, 64)\n",
    "        self.fc4 = nn.Linear(64, 3)\n",
    "        self.sm = nn.Softmax(dim=1)\n",
    "\n",
    "    def forward(self, x):\n",
    "        \"\"\"\n",
    "        :param x: input data of this model\n",
    "        :return: output data of this model\n",
    "        \"\"\"\n",
    "        x = self.fc1(x)\n",
    "        x = F.relu(x)\n",
    "        x = self.fc2(x)\n",
    "        x = F.relu(x)\n",
    "        x = self.fc3(x)\n",
    "        x = F.relu(x)\n",
    "        x = self.fc4(x)\n",
    "        x = self.sm(x)\n",
    "        return x\n",
    "\n",
    "print(summary(DeepNeuralNetwork(),(1, 24)))"
   ]
  },
  {
   "cell_type": "code",
   "execution_count": 132,
   "metadata": {},
   "outputs": [
    {
     "name": "stdout",
     "output_type": "stream",
     "text": [
      "Epoch: 1/5\n"
     ]
    },
    {
     "name": "stderr",
     "output_type": "stream",
     "text": [
      "100%|██████████| 19204/19204 [00:23<00:00, 823.71it/s]\n"
     ]
    },
    {
     "name": "stdout",
     "output_type": "stream",
     "text": [
      "Total Training Loss in Epoch 1 : 1.21807672057927\n",
      "Epoch: 2/5\n"
     ]
    },
    {
     "name": "stderr",
     "output_type": "stream",
     "text": [
      "100%|██████████| 19204/19204 [00:21<00:00, 913.26it/s]\n"
     ]
    },
    {
     "name": "stdout",
     "output_type": "stream",
     "text": [
      "Total Training Loss in Epoch 2 : 1.21807672057927\n",
      "Epoch: 3/5\n"
     ]
    },
    {
     "name": "stderr",
     "output_type": "stream",
     "text": [
      "100%|██████████| 19204/19204 [00:21<00:00, 905.86it/s]\n"
     ]
    },
    {
     "name": "stdout",
     "output_type": "stream",
     "text": [
      "Total Training Loss in Epoch 3 : 1.2180767205792697\n",
      "Epoch: 4/5\n"
     ]
    },
    {
     "name": "stderr",
     "output_type": "stream",
     "text": [
      "100%|██████████| 19204/19204 [00:21<00:00, 879.93it/s]\n"
     ]
    },
    {
     "name": "stdout",
     "output_type": "stream",
     "text": [
      "Total Training Loss in Epoch 4 : 1.2180767205792702\n",
      "Epoch: 5/5\n"
     ]
    },
    {
     "name": "stderr",
     "output_type": "stream",
     "text": [
      "100%|██████████| 19204/19204 [00:20<00:00, 922.51it/s]\n"
     ]
    },
    {
     "name": "stdout",
     "output_type": "stream",
     "text": [
      "Total Training Loss in Epoch 5 : 1.21807672057927\n",
      "0\n"
     ]
    }
   ],
   "source": [
    "EPOCHS = 5\n",
    "INIT_LR = 0.01\n",
    "device =  torch.device('cuda:0') if torch.cuda.is_available() else torch.device('cpu')\n",
    "\n",
    "model = DeepNeuralNetwork().to(device)\n",
    "model= torch.nn.DataParallel(model,device_ids=[0])\n",
    "\n",
    "lossBCE = CrossEntropyLoss()\n",
    "\n",
    "opt = Adam(model.parameters(), lr=INIT_LR)\n",
    "\n",
    "H = {\"train_loss\":[]}\n",
    "\n",
    "for epoch in range(0, EPOCHS):\n",
    "    print(\"Epoch:\",str(epoch+1)+\"/\"+str(EPOCHS))\n",
    "    # Train Mode\n",
    "    model.train()\n",
    "    \n",
    "    # Initialize\n",
    "    totalTrainLoss = 0\n",
    "    totalValLoss = 0\n",
    "    trainCorrect = 0\n",
    "    valCorrect = 0\n",
    "\n",
    "    for i in tqdm(range(0,len(X))): # Iterate over Training Examples\n",
    "        x = X[i].unsqueeze(0)\n",
    "        y = Y[i].unsqueeze(0)\n",
    "        x_pred=model(x)\n",
    "        loss = lossBCE(x_pred,y)\n",
    "        # zero out the gradients, perform the backpropagation step, and update the weights\n",
    "        opt.zero_grad()\n",
    "        loss.backward()\n",
    "        opt.step()\n",
    "        H[\"train_loss\"].append(float(loss))\n",
    "    print(\"Training Loss in Epoch\",str(epoch+1),\":\",np.sum(np.array(H[\"train_loss\"])/(len(X)*(epoch+1))))\n",
    "       \n",
    "PATH = \"./modelfinal\"\n",
    "torch.save(model.state_dict(), PATH + \".pt\")\n",
    "print(totalTrainLoss)"
   ]
  }
 ],
 "metadata": {
  "kernelspec": {
   "display_name": "Python 3.10.4 ('ML')",
   "language": "python",
   "name": "python3"
  },
  "language_info": {
   "codemirror_mode": {
    "name": "ipython",
    "version": 3
   },
   "file_extension": ".py",
   "mimetype": "text/x-python",
   "name": "python",
   "nbconvert_exporter": "python",
   "pygments_lexer": "ipython3",
   "version": "3.10.4"
  },
  "orig_nbformat": 4,
  "vscode": {
   "interpreter": {
    "hash": "f158735646e3eab0c4059261eebfec0df7fcce3767322491286d467f4f66baf5"
   }
  }
 },
 "nbformat": 4,
 "nbformat_minor": 2
}
