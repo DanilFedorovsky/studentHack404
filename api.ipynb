{
 "cells": [
  {
   "cell_type": "code",
   "execution_count": 39,
   "metadata": {},
   "outputs": [],
   "source": [
    "from flask import Flask, jsonify\n",
    "import json\n",
    "import torch\n",
    "import model_architecture"
   ]
  },
  {
   "cell_type": "markdown",
   "metadata": {},
   "source": [
    "# Load Model"
   ]
  },
  {
   "cell_type": "code",
   "execution_count": 40,
   "metadata": {},
   "outputs": [
    {
     "data": {
      "text/plain": [
       "Ensemble(\n",
       "  (nn): FFNN(\n",
       "    (fc1): Linear(in_features=24, out_features=1024, bias=True)\n",
       "    (fc2): Linear(in_features=1024, out_features=256, bias=True)\n",
       "    (fc3): Linear(in_features=256, out_features=64, bias=True)\n",
       "    (fc4): Linear(in_features=64, out_features=3, bias=True)\n",
       "    (sm): Softmax(dim=1)\n",
       "  )\n",
       "  (cnn): CNN(\n",
       "    (cnn): Conv1d(1, 20, kernel_size=(12,), stride=(1,))\n",
       "    (fc): Linear(in_features=260, out_features=3, bias=True)\n",
       "    (sm): Softmax(dim=1)\n",
       "  )\n",
       "  (rnn): RNN(\n",
       "    (lstm): LSTM(24, 128)\n",
       "    (fc): Linear(in_features=128, out_features=3, bias=True)\n",
       "    (sm): Softmax(dim=1)\n",
       "  )\n",
       "  (sm): Softmax(dim=1)\n",
       ")"
      ]
     },
     "execution_count": 40,
     "metadata": {},
     "output_type": "execute_result"
    }
   ],
   "source": [
    "PATH = \"modelfinal.pt\"\n",
    "state_dict = torch.load(PATH)\n",
    "\n",
    "from collections import OrderedDict\n",
    "new_state_dict = OrderedDict()\n",
    "for k, v in state_dict.items():\n",
    "    name = k[7:] # remove `module.` from state dict\n",
    "    new_state_dict[name] = v\n",
    "# load params\n",
    "model = model_architecture.Ensemble()\n",
    "model.load_state_dict(new_state_dict)\n",
    "model.eval()"
   ]
  },
  {
   "cell_type": "code",
   "execution_count": 41,
   "metadata": {},
   "outputs": [
    {
     "data": {
      "text/plain": [
       "tensor([[0.1863, 0.0951, 0.7186]], grad_fn=<SoftmaxBackward0>)"
      ]
     },
     "execution_count": 41,
     "metadata": {},
     "output_type": "execute_result"
    }
   ],
   "source": [
    "model(torch.Tensor([[0.0000e+00, 4.9594e+01, 4.1188e+01, 3.9312e+01, 2.9203e+01, 2.9000e+01,\\\n",
    "        3.0906e+01, 3.0797e+01, 3.0703e+01, 1.9906e+01, 2.0297e+01, 2.0500e+01,\\\n",
    "        1.9906e+01, 1.9797e+01, 2.0406e+01, 5.0000e+01, 4.0050e+02, 1.0088e+02,\\\n",
    "        3.5010e-01, 4.2438e+01, 2.6781e+01, 1.7100e+02, 1.4960e+03, 3.0005e-01]]))"
   ]
  },
  {
   "cell_type": "code",
   "execution_count": 42,
   "metadata": {},
   "outputs": [
    {
     "data": {
      "text/plain": [
       "tensor([[0.1863, 0.0951, 0.7186]], grad_fn=<SoftmaxBackward0>)"
      ]
     },
     "execution_count": 42,
     "metadata": {},
     "output_type": "execute_result"
    }
   ],
   "source": [
    "model(torch.Tensor([[0.0000e+00, 4.9594e+01, 4.1188e+01, 3.9312e+01, 2.9203e+01, 2.9000e+01,\\\n",
    "        3.0906e+01, 3.0797e+01, 3.0703e+01, 1.9906e+01, 2.0297e+01, 2.0500e+01,\\\n",
    "        1.9906e+01, 1.9797e+01, 2.0406e+01, 5.0000e+01, 4.0050e+02, 1.0088e+02,\\\n",
    "        3.5010e-01, 4.2438e+01, 2.6781e+01, 1.7100e+02, 1.4960e+03, 3.0005e-01]]))"
   ]
  },
  {
   "cell_type": "markdown",
   "metadata": {},
   "source": [
    "# API"
   ]
  },
  {
   "cell_type": "code",
   "execution_count": null,
   "metadata": {},
   "outputs": [],
   "source": [
    "app = Flask(__name__)\n",
    "@app.route('/')\n",
    "def index():\n",
    "    return jsonify({'name': 'alice',\n",
    "                    'email': 'alice@outlook.com'})\n",
    "\n",
    "app.run()"
   ]
  }
 ],
 "metadata": {
  "kernelspec": {
   "display_name": "Python 3.10.4 ('ML')",
   "language": "python",
   "name": "python3"
  },
  "language_info": {
   "codemirror_mode": {
    "name": "ipython",
    "version": 3
   },
   "file_extension": ".py",
   "mimetype": "text/x-python",
   "name": "python",
   "nbconvert_exporter": "python",
   "pygments_lexer": "ipython3",
   "version": "3.10.4"
  },
  "orig_nbformat": 4,
  "vscode": {
   "interpreter": {
    "hash": "f158735646e3eab0c4059261eebfec0df7fcce3767322491286d467f4f66baf5"
   }
  }
 },
 "nbformat": 4,
 "nbformat_minor": 2
}
